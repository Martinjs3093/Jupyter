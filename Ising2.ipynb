{
 "cells": [
  {
   "cell_type": "code",
   "execution_count": 1,
   "metadata": {},
   "outputs": [],
   "source": [
    "%matplotlib inline"
   ]
  },
  {
   "cell_type": "code",
   "execution_count": 31,
   "metadata": {
    "scrolled": true
   },
   "outputs": [],
   "source": [
    "import numpy as np\n",
    "import random as rn\n",
    "import matplotlib.pyplot as plt\n",
    "from matplotlib import animation\n",
    "from IPython.display import HTML\n",
    "plt.style.use(['dark_background'])\n",
    "\n",
    "def ising2d(grid):\n",
    "    m = []\n",
    "    mag = - N*N\n",
    "    for i in range(nmax):\n",
    "        for j in range(n0):\n",
    "            #Finds random site, Why random\n",
    "            a = np.random.randint(0,N) \n",
    "            b = np.random.randint(0,N)\n",
    "            s = grid[a,b]\n",
    "            #Flips the randomly picked site \n",
    "            snew = -s\n",
    "            spinsum = grid[(a+1)%N,b] + grid[a,(b+1)%N] + grid[(a-1)%N,b] + grid[a,(b-1)%N]\n",
    "            old = - J*s * spinsum\n",
    "            new = -J*snew * spinsum\n",
    "            dE = new-old\n",
    "            if dE<=0 or np.random.random() < np.exp(-B*dE):\n",
    "                # If met, accept change\n",
    "                grid[a,b]=snew \n",
    "                mag += 2*snew\n",
    "        m.append(np.sum(grid)/(N*N))\n",
    "    #plt.plot(range(nmax),np.abs(m))\n",
    "    return grid\n",
    "\n"
   ]
  },
  {
   "cell_type": "code",
   "execution_count": 34,
   "metadata": {},
   "outputs": [],
   "source": [
    "N = 20\n",
    "J = 1\n",
    "B = 10000#1/2.2\n",
    "h = 1\n",
    "nmax = 2000\n",
    "n0 = N\n",
    "grid = np.random.choice([-1,1],N*N).reshape(N,N)"
   ]
  },
  {
   "cell_type": "code",
   "execution_count": 29,
   "metadata": {},
   "outputs": [
    {
     "data": {
      "text/plain": [
       "array([[-1, -1, -1, -1, -1, -1, -1, -1, -1, -1, -1, -1, -1, -1, -1, -1,\n",
       "        -1, -1, -1, -1],\n",
       "       [-1, -1, -1, -1, -1, -1, -1, -1, -1, -1, -1, -1, -1, -1, -1, -1,\n",
       "        -1, -1, -1, -1],\n",
       "       [-1, -1, -1, -1, -1, -1, -1, -1, -1, -1, -1, -1, -1, -1, -1, -1,\n",
       "        -1, -1, -1, -1],\n",
       "       [-1, -1, -1, -1, -1, -1, -1, -1, -1, -1, -1, -1, -1, -1, -1, -1,\n",
       "        -1, -1, -1, -1],\n",
       "       [-1, -1, -1, -1, -1, -1, -1, -1, -1, -1, -1, -1, -1, -1, -1, -1,\n",
       "        -1, -1, -1, -1],\n",
       "       [-1, -1, -1, -1, -1, -1, -1, -1, -1, -1, -1, -1, -1, -1, -1, -1,\n",
       "        -1, -1, -1, -1],\n",
       "       [-1, -1, -1, -1, -1, -1, -1, -1, -1, -1, -1, -1, -1, -1, -1, -1,\n",
       "        -1, -1, -1, -1],\n",
       "       [-1, -1, -1, -1, -1, -1, -1, -1, -1, -1, -1, -1, -1, -1, -1, -1,\n",
       "        -1, -1, -1, -1],\n",
       "       [-1, -1, -1, -1, -1, -1, -1, -1, -1, -1, -1, -1, -1, -1, -1, -1,\n",
       "        -1, -1, -1, -1],\n",
       "       [-1, -1, -1, -1, -1, -1, -1, -1, -1, -1, -1, -1, -1, -1, -1, -1,\n",
       "        -1, -1, -1, -1],\n",
       "       [-1, -1, -1, -1, -1, -1, -1, -1, -1, -1, -1, -1, -1, -1, -1, -1,\n",
       "        -1, -1, -1, -1],\n",
       "       [-1, -1, -1, -1, -1, -1, -1, -1, -1, -1, -1, -1, -1, -1, -1, -1,\n",
       "        -1, -1, -1, -1],\n",
       "       [-1, -1, -1, -1, -1, -1, -1, -1, -1, -1, -1, -1, -1, -1, -1, -1,\n",
       "        -1, -1, -1, -1],\n",
       "       [-1, -1, -1, -1, -1, -1, -1, -1, -1, -1, -1, -1, -1, -1, -1, -1,\n",
       "        -1, -1, -1, -1],\n",
       "       [-1, -1, -1, -1, -1, -1, -1, -1, -1, -1, -1, -1, -1, -1, -1, -1,\n",
       "        -1, -1, -1, -1],\n",
       "       [-1, -1, -1, -1, -1, -1, -1, -1, -1, -1, -1, -1, -1, -1, -1, -1,\n",
       "        -1, -1, -1, -1],\n",
       "       [-1, -1, -1, -1, -1, -1, -1, -1, -1, -1, -1, -1, -1, -1, -1, -1,\n",
       "        -1, -1, -1, -1],\n",
       "       [-1, -1, -1, -1, -1, -1, -1, -1, -1, -1, -1, -1, -1, -1, -1, -1,\n",
       "        -1, -1, -1, -1],\n",
       "       [-1, -1, -1, -1, -1, -1, -1, -1, -1, -1, -1, -1, -1, -1, -1, -1,\n",
       "        -1, -1, -1, -1],\n",
       "       [-1, -1, -1, -1, -1, -1, -1, -1, -1, -1, -1, -1, -1, -1, -1, -1,\n",
       "        -1, -1, -1, -1]])"
      ]
     },
     "execution_count": 29,
     "metadata": {},
     "output_type": "execute_result"
    },
    {
     "data": {
      "image/png": "[encoded data removed]",
      "text/plain": [
       "<Figure size 432x288 with 1 Axes>"
      ]
     },
     "metadata": {},
     "output_type": "display_data"
    }
   ],
   "source": [
    "ising2d(grid)"
   ]
  },
  {
   "cell_type": "code",
   "execution_count": 35,
   "metadata": {},
   "outputs": [
    {
     "data": {
      "text/html": [
       "<video width=\"432\" height=\"288\" controls autoplay loop>\n",
       "  <source type=\"video/mp4\" src=\"data:video/mp4;base64,AAAAHGZ0eXBNNFYgAAACAGlzb21pc28yYXZjMQAAAAhmcmVlAAAUp21kYXQAAAKtBgX//6ncRem9\n",
       "5tlIt5Ys2CDZI+7veDI2NCAtIGNvcmUgMTUyIHIyODU0IGU5YTU5MDMgLSBILjI2NC9NUEVHLTQg\n",
       "QVZDIGNvZGVjIC0gQ29weWxlZnQgMjAwMy0yMDE3IC0gaHR0cDovL3d3dy52aWRlb2xhbi5vcmcv\n",
       "eDI2NC5odG1sIC0gb3B0aW9uczogY2FiYWM9MSByZWY9MyBkZWJsb2NrPTE6MDowIGFuYWx5c2U9\n",
       "MHgzOjB4MTEzIG1lPWhleCBzdWJtZT03IHBzeT0xIHBzeV9yZD0xLjAwOjAuMDAgbWl4ZWRfcmVm\n",
       "PTEgbWVfcmFuZ2U9MTYgY2hyb21hX21lPTEgdHJlbGxpcz0xIDh4OGRjdD0xIGNxbT0wIGRlYWR6\n",
       "b25lPTIxLDExIGZhc3RfcHNraXA9MSBjaHJvbWFfcXBfb2Zmc2V0PS0yIHRocmVhZHM9NiBsb29r\n",
       "YWhlYWRfdGhyZWFkcz0xIHNsaWNlZF90aHJlYWRzPTAgbnI9MCBkZWNpbWF0ZT0xIGludGVybGFj\n",
       "ZWQ9MCBibHVyYXlfY29tcGF0PTAgY29uc3RyYWluZWRfaW50cmE9MCBiZnJhbWVzPTMgYl9weXJh\n",
       "bWlkPTIgYl9hZGFwdD0xIGJfYmlhcz0wIGRpcmVjdD0xIHdlaWdodGI9MSBvcGVuX2dvcD0wIHdl\n",
       "aWdodHA9MiBrZXlpbnQ9MjUwIGtleWludF9taW49NSBzY2VuZWN1dD00MCBpbnRyYV9yZWZyZXNo\n",
       "PTAgcmNfbG9va2FoZWFkPTQwIHJjPWNyZiBtYnRyZWU9MSBjcmY9MjMuMCBxY29tcD0wLjYwIHFw\n",
       "bWluPTAgcXBtYXg9NjkgcXBzdGVwPTQgaXBfcmF0aW89MS40MCBhcT0xOjEuMDAAgAAACVZliIQA\n",
       "FP/+98dPwKbq3CLLnUU9ITCK2PpIKL1Y7NAydQAAAwAARMDHEW1dy48B5gAAYS0r9FjTspzAJ0n8\n",
       "53a4FALe2WAfeaiz9vIoQVtVnu8ylQX4RS7Am07lEfjTw4+2Kt9acUIgvexEuduRM/lHUWp5z8KM\n",
       "ag83veN3PiZufx/BmpQxrmyGNxezQSGe7aUJgE6VMtZJXSCDoEGmMWDNsGHCivSsgnXfpuYGv/Mu\n",
       "fXaT5w224Ym3SRFGNOTWh531GIwsIn25rTNsLgWg5CXvi9LUIsIHxXUMFEJMAl3oKTbkomda35Ym\n",
       "EUbDmOF7U14hmnuy2c5lfVCJItSt4FC/h5685FBaHWQFOkMM1deQaD5+uc1WneP/LZhcLzeWS5QX\n",
       "7GFdBEv2LV6rVoI7zSRItVbNaqi+ZXc2dz1mgzcg+98S3/h6D/gGFBRsl2eQ5La1RQxsX0Vk4604\n",
       "trWCGKNuTdCQewm12CILsIlOBn5JJ7waZYTj214BXPlWXopJRnGWob0TUcMKBnZt3On9rxV8L6gA\n",
       "ROU4XsCD9OKVe+tEEPe2mFGAuHKmVj9ShBzK3OsV80ldSZ5rJZhRFsEeTQGLSxdZrRDAdc+X4Jc6\n",
       "piX15IwChTpfcewQfqsHeoxXZDcmw1k4Kevkd/2JTgzGSumboHfLsM8b0ztRKL2bFaOXzWMlHGgl\n",
       "Tr2O5C4FuGvhk+WVQAG356kVO+EE3dOD1WCE+W7YhmL3ayQnb+R0uV6XpQahpQyi2jJEy8r9Q0jh\n",
       "prQQy4punPNHuoTd3c7d0PkQNEuiRyY0tkPwjrADgbmB/HMYspbW2N67lOfGhJKhgVWwCJX95x4M\n",
       "qh6jwjz/nJDgfLse+HPqvUIBonyNKa9BZgM/n8cBWxxBwIGOjECaWf+0TMikhm0++eC3vBGfH4gU\n",
       "gtzpy3Mwzxl3+0BQM35bEqFNMfPPFMoCtzsFRsqHIWYc/vT5O5Sj+RgGOajDaqnm8nWQfnH0doX1\n",
       "HOcdKZGY7JhxQpVbPIn7UoD9NCh6nI8dZaF4aKAQwm6nym2Ruuw3iiQmvzWocdrpggGTGgwKInWq\n",
       "ePaOuRnxK/jOHNnC6Fj5kY8VxAwBBjAffxiNjgtiPw46is/Lv3keXalMCKjh/EbjXP37qtHZlGVK\n",
       "7PGPrX/VM7MZCQ1+wRm0hcYZjl6bQVSXps8H8sKBBigXZEctaSF/al1zMVrVToTAMkkQnCdjtZSm\n",
       "W3W6Oo0AvnBZRe+ungpPjeUGpHIpWextEKE5vEWej0iq9JN3Hyz/mcIJbTWf7sH4F7pyYWTEVwzl\n",
       "M64PG8dBvukJcfTg2v3Stw2sNlJ/N1BOgCrRPn1uE9RkP2AZP1hCJ4gQEN71nfOZm2WWAvpuWFoH\n",
       "1Kx2Ns5r8a46djCsu1/s9KGVebXfJuh0Ua8AzItnbFXqNakMah0jISuaHeOzqGcSpsF7GxtE+/+d\n",
       "USP5dCumCawnJRknjYz1VMIgDs0pWypsxC4AYNTNoFHxWS/EsnbSiko5jKYplPO+9E8buRJSQMoI\n",
       "hPo7YcIozlsU29+HZ6U+EHK++1oDwfVmyPWKZbSAOOZ9sOWh968ra0vC2jzrUuW3Fl3uiI/Cnmsq\n",
       "cqit/8ky9/Av2WGj8DoyKYEezxNuVDl1R8D0Vg2ZMifF45nqKq96VPZ5Zd0bTUCgMLra8X66zsBJ\n",
       "Ut0bV+7Q7N6cFc8AeK4xkAmy/8m7kzo53BHgKBkCKnLxm8mF3o/6OA0EMUbVZjgwsPd12EkLp2ff\n",
       "7q1eqLe5YP9drMRVJpcXBLO3zBkUNJIeMPz6g60KDdA33TtQyTzyvZ1WHDCff9Yf/Ig7vDFbY+V/\n",
       "Ki29LDFq2Fstvk7Gi54GpWpTkXkTfF43LscQYDBqj98IWWW6ohTTZwuqpDq+J8Uutb6c9Vrx+3Md\n",
       "Ji69jF5h2/oeKfyefIaD2pHaNnSwl4ErBq0IGtlDZAdgqkhZS1kyp+s1OedH06mqr1fl0H0nDOJq\n",
       "O8dWuZV7dVtOU4VsV5ZBkoD6wcaFJOI+Qj675jXNwHFGwkUeBiTPMYvlgUX7z5mcBbikMw3OUamJ\n",
       "9lSgZogDtTcRcZbKfo/Jh9HzDo4iWpKNIFyc+i4Dxp5Jihd+2+N6k0G4Ko5b/8E2PqryVz66prjf\n",
       "5CYZ4sUo+MvoU4LjXMTEE0xOQU+Bf3dsnZubRNZGXoc5yXHvpUVK54J/mRAdf6fgtOXMTH139PPs\n",
       "Cdp4CDNXw6XO8ngB4l2hSEpwQ5WVhlvsWnue7DwP4SaXYsm9Gpb6om5B2v+A5fH9KDCg/+bM5DC4\n",
       "oFIgI0jfBX1T7kv1fpIi/ru76hWhaPQ69pgnlP0Pyibe/v/klXAO/+rmf4bzKaRabLfqfLKAYyj8\n",
       "pHWH3nYnjppxoyzhiP1EvS7Bq2zu7j5ovqMpx5/6p5pnmx20YkMwSqfA/bLVk7cM1+ROz1FEwUJi\n",
       "bas5/ASqVsTqTF3frwkbSJmOj7eUobzgvbgobEU+PRPrq+BQfLDXSsqKvYsQOSdMGmBjyO1U3zGL\n",
       "Nnz4q65owfmDUDp4zXux40cqtvRHgY7EMnhu3kp4dzA6sYAI2asAg/Qm0IMZOcmSQ4HAjbwUOqjI\n",
       "yvuNIjjsyRkxPkDH1sdqhYVv0EoQbJnkg9plPhjmzmbsDHl75OX/LMmLiav3VUcrr+c/6+Sjp8PK\n",
       "/CJ1GhwOfNCnI2iDMUAlID9zym3bQZaqwK1c4WkosejbC7Yer+QKVHmJ6VhJTwnpPwqZVnZ3M67o\n",
       "wIiKLeMyL+BlWHklT1anzhGr6VTp0tQtVO7c94G7huC70Y0Ym6nb3uhhpCbFkMezKvqwV8gdQHIM\n",
       "5y8ouKYC1Lj9MH97Ifgw7Bt7anSZ+rBoz1+/0dUrSdnOydSVuT7aUufH00UMyKIVcKFF0XSi0mGy\n",
       "ux7cVMJhdMt15CrfBawI6JOquc2WdbiVLJ6sqM0Y57yiicfqYDSy0bRXOGNoU59FGMnt685WgT8p\n",
       "xIe7r2kYCv1ULUW7xrIhiERpuPRKCigtWLwMDXPsmGZw3z/96X3mTcUP3LHgb13r06V4S+4BJhFk\n",
       "A9afbK300M9+NzDEgKoGKRj3dzYEctfm/WQVVkqi6fUrYJx91Mxapz9zI4IGPpqnGqenNyiU3PF2\n",
       "+w/t7PvrOb9UC694BxvqbCVFcW5QGlyh317e1Grfrny4ucH72pwgJhiMAAYBDVgWEQAAALVBmiRs\n",
       "QU/+1oywAAbLThigFqNg//AvIOAlaeTj/v/yNxVcXJRzY073/AOKsKJRYcC7+hh3QZIktAnX0HYA\n",
       "j8TdCr8PTsbjWvZ6dl5xNzRfzZctZQr9j6wpvvPWlqmawZUm0yyNdUp4iK9xHOwnfzaJa68xPdpd\n",
       "0fbwpAzjlAiOzCkuK8a/T4HqIQfgLLjffv5A4SPTyt3KQuC4fuZrYbt9ngXRQvY8js5ZZ+dpuCP7\n",
       "oSxjpuu+AAAAHUGeQniCHwAAIKh7tZW/GP3ANM6PXuT1ExbBtB/RAAAAHAGeYXRD/wAASVcqsIFi\n",
       "VCSUN8NzgjBwdWFJ5XQAAAAOAZ5jakP/AAAJLBtAlIEAAAAUQZpoSahBaJlMCCn//taMsAAAB90A\n",
       "AAASQZ6GRREsEP8AAAQVtkcIMpsjAAAADQGepXRD/wAACSrlQ58AAAAOAZ6nakP/AAAJLBtAlIAA\n",
       "AAAUQZqsSahBbJlMCCn//taMsAAAB9wAAAASQZ7KRRUsEP8AAAQVtkcIMpsjAAAADQGe6XRD/wAA\n",
       "CSrlQ58AAAAOAZ7rakP/AAAJLBtAlIAAAAAUQZrwSahBbJlMCCn//taMsAAAB90AAAASQZ8ORRUs\n",
       "EP8AAAQVtkcIMpsjAAAADQGfLXRD/wAACSrlQ58AAAAOAZ8vakP/AAAJLBtAlIAAAAAUQZs0SahB\n",
       "bJlMCCn//taMsAAAB9wAAAASQZ9SRRUsEP8AAAQVtkcIMpsjAAAADQGfcXRD/wAACSrlQ58AAAAO\n",
       "AZ9zakP/AAAJLBtAlIAAAAAUQZt4SahBbJlMCCn//taMsAAAB90AAAASQZ+WRRUsEP8AAAQVtkcI\n",
       "MpsjAAAADQGftXRD/wAACSrlQ58AAAAOAZ+3akP/AAAJLBtAlIEAAAAUQZu8SahBbJlMCCn//taM\n",
       "sAAAB9wAAAASQZ/aRRUsEP8AAAQVtkcIMpsjAAAADQGf+XRD/wAACSrlQ58AAAAOAZ/7akP/AAAJ\n",
       "LBtAlIEAAAAUQZvgSahBbJlMCCn//taMsAAAB90AAAASQZ4eRRUsEP8AAAQVtkcIMpsjAAAADQGe\n",
       "PXRD/wAACSrlQ58AAAAOAZ4/akP/AAAJLBtAlIEAAAAUQZokSahBbJlMCCn//taMsAAAB9wAAAAS\n",
       "QZ5CRRUsEP8AAAQVtkcIMpsjAAAADQGeYXRD/wAACSrlQ58AAAAOAZ5jakP/AAAJLBtAlIEAAAAU\n",
       "QZpoSahBbJlMCCn//taMsAAAB90AAAASQZ6GRRUsEP8AAAQVtkcIMpsjAAAADQGepXRD/wAACSrl\n",
       "Q58AAAAOAZ6nakP/AAAJLBtAlIAAAAAUQZqsSahBbJlMCCn//taMsAAAB9wAAAASQZ7KRRUsEP8A\n",
       "AAQVtkcIMpsjAAAADQGe6XRD/wAACSrlQ58AAAAOAZ7rakP/AAAJLBtAlIAAAAAUQZrwSahBbJlM\n",
       "CCn//taMsAAAB90AAAASQZ8ORRUsEP8AAAQVtkcIMpsjAAAADQGfLXRD/wAACSrlQ58AAAAOAZ8v\n",
       "akP/AAAJLBtAlIAAAAAUQZs0SahBbJlMCCn//taMsAAAB9wAAAASQZ9SRRUsEP8AAAQVtkcIMpsj\n",
       "AAAADQGfcXRD/wAACSrlQ58AAAAOAZ9zakP/AAAJLBtAlIAAAAAUQZt4SahBbJlMCCn//taMsAAA\n",
       "B90AAAASQZ+WRRUsEP8AAAQVtkcIMpsjAAAADQGftXRD/wAACSrlQ58AAAAOAZ+3akP/AAAJLBtA\n",
       "lIEAAAAUQZu8SahBbJlMCCn//taMsAAAB9wAAAASQZ/aRRUsEP8AAAQVtkcIMpsjAAAADQGf+XRD\n",
       "/wAACSrlQ58AAAAOAZ/7akP/AAAJLBtAlIEAAAAUQZvgSahBbJlMCCn//taMsAAAB90AAAASQZ4e\n",
       "RRUsEP8AAAQVtkcIMpsjAAAADQGePXRD/wAACSrlQ58AAAAOAZ4/akP/AAAJLBtAlIEAAAAUQZok\n",
       "SahBbJlMCCn//taMsAAAB9wAAAASQZ5CRRUsEP8AAAQVtkcIMpsjAAAADQGeYXRD/wAACSrlQ58A\n",
       "AAAOAZ5jakP/AAAJLBtAlIEAAAAUQZpoSahBbJlMCCn//taMsAAAB90AAAASQZ6GRRUsEP8AAAQV\n",
       "tkcIMpsjAAAADQGepXRD/wAACSrlQ58AAAAOAZ6nakP/AAAJLBtAlIAAAAAUQZqsSahBbJlMCCn/\n",
       "/taMsAAAB9wAAAASQZ7KRRUsEP8AAAQVtkcIMpsjAAAADQGe6XRD/wAACSrlQ58AAAAOAZ7rakP/\n",
       "AAAJLBtAlIAAAAAUQZrwSahBbJlMCCn//taMsAAAB90AAAASQZ8ORRUsEP8AAAQVtkcIMpsjAAAA\n",
       "DQGfLXRD/wAACSrlQ58AAAAOAZ8vakP/AAAJLBtAlIAAAAAUQZs0SahBbJlMCCf//rUqgAAAHrAA\n",
       "AAASQZ9SRRUsEP8AAAQVtkcIMpsjAAAADQGfcXRD/wAACSrlQ58AAAAOAZ9zakP/AAAJLBtAlIAA\n",
       "AAAUQZt4SahBbJlMCCf//rUqgAAAHrEAAAASQZ+WRRUsEP8AAAQVtkcIMpsjAAAADQGftXRD/wAA\n",
       "CSrlQ58AAAAOAZ+3akP/AAAJLBtAlIEAAAAUQZu8SahBbJlMCCf//rUqgAAAHrAAAAASQZ/aRRUs\n",
       "EP8AAAQVtkcIMpsjAAAADQGf+XRD/wAACSrlQ58AAAAOAZ/7akP/AAAJLBtAlIEAAAAUQZvgSahB\n",
       "bJlMCCX//rUqgAAAHrEAAAASQZ4eRRUsEP8AAAQVtkcIMpsjAAAADQGePXRD/wAACSrlQ58AAAAO\n",
       "AZ4/akP/AAAJLBtAlIEAAAAVQZojSahBbJlMCH///qmWAAADAPCAAAAAEkGeQUUVLBD/AAAEFbZH\n",
       "CDKbIwAAAA4BnmJqQ/8AAAksG0CUgAAAB9Ztb292AAAAbG12aGQAAAAAAAAAAAAAAAAAAAPoAABO\n",
       "IAABAAABAAAAAAAAAAAAAAAAAQAAAAAAAAAAAAAAAAAAAAEAAAAAAAAAAAAAAAAAAEAAAAAAAAAA\n",
       "AAAAAAAAAAAAAAAAAAAAAAAAAAAAAAACAAAHAHRyYWsAAABcdGtoZAAAAAMAAAAAAAAAAAAAAAEA\n",
       "AAAAAABOIAAAAAAAAAAAAAAAAAAAAAAAAQAAAAAAAAAAAAAAAAAAAAEAAAAAAAAAAAAAAAAAAEAA\n",
       "AAABsAAAASAAAAAAACRlZHRzAAAAHGVsc3QAAAAAAAAAAQAATiAAABAAAAEAAAAABnhtZGlhAAAA\n",
       "IG1kaGQAAAAAAAAAAAAAAAAAACgAAAMgAFXEAAAAAAAtaGRscgAAAAAAAAAAdmlkZQAAAAAAAAAA\n",
       "AAAAAFZpZGVvSGFuZGxlcgAAAAYjbWluZgAAABR2bWhkAAAAAQAAAAAAAAAAAAAAJGRpbmYAAAAc\n",
       "ZHJlZgAAAAAAAAABAAAADHVybCAAAAABAAAF43N0YmwAAACzc3RzZAAAAAAAAAABAAAAo2F2YzEA\n",
       "AAAAAAAAAQAAAAAAAAAAAAAAAAAAAAABsAEgAEgAAABIAAAAAAAAAAEAAAAAAAAAAAAAAAAAAAAA\n",
       "AAAAAAAAAAAAAAAAAAAAAAAY//8AAAAxYXZjQwFkABX/4QAYZ2QAFazZQbCWhAAAAwAEAAADACg8\n",
       "WLZYAQAGaOvjyyLAAAAAHHV1aWRraEDyXyRPxbo5pRvPAyPzAAAAAAAAABhzdHRzAAAAAAAAAAEA\n",
       "AABkAAAIAAAAABRzdHNzAAAAAAAAAAEAAAABAAADKGN0dHMAAAAAAAAAYwAAAAEAABAAAAAAAQAA\n",
       "KAAAAAABAAAQAAAAAAEAAAAAAAAAAQAACAAAAAABAAAoAAAAAAEAABAAAAAAAQAAAAAAAAABAAAI\n",
       "AAAAAAEAACgAAAAAAQAAEAAAAAABAAAAAAAAAAEAAAgAAAAAAQAAKAAAAAABAAAQAAAAAAEAAAAA\n",
       "AAAAAQAACAAAAAABAAAoAAAAAAEAABAAAAAAAQAAAAAAAAABAAAIAAAAAAEAACgAAAAAAQAAEAAA\n",
       "AAABAAAAAAAAAAEAAAgAAAAAAQAAKAAAAAABAAAQAAAAAAEAAAAAAAAAAQAACAAAAAABAAAoAAAA\n",
       "AAEAABAAAAAAAQAAAAAAAAABAAAIAAAAAAEAACgAAAAAAQAAEAAAAAABAAAAAAAAAAEAAAgAAAAA\n",
       "AQAAKAAAAAABAAAQAAAAAAEAAAAAAAAAAQAACAAAAAABAAAoAAAAAAEAABAAAAAAAQAAAAAAAAAB\n",
       "AAAIAAAAAAEAACgAAAAAAQAAEAAAAAABAAAAAAAAAAEAAAgAAAAAAQAAKAAAAAABAAAQAAAAAAEA\n",
       "AAAAAAAAAQAACAAAAAABAAAoAAAAAAEAABAAAAAAAQAAAAAAAAABAAAIAAAAAAEAACgAAAAAAQAA\n",
       "EAAAAAABAAAAAAAAAAEAAAgAAAAAAQAAKAAAAAABAAAQAAAAAAEAAAAAAAAAAQAACAAAAAABAAAo\n",
       "AAAAAAEAABAAAAAAAQAAAAAAAAABAAAIAAAAAAEAACgAAAAAAQAAEAAAAAABAAAAAAAAAAEAAAgA\n",
       "AAAAAQAAKAAAAAABAAAQAAAAAAEAAAAAAAAAAQAACAAAAAABAAAoAAAAAAEAABAAAAAAAQAAAAAA\n",
       "AAABAAAIAAAAAAEAACgAAAAAAQAAEAAAAAABAAAAAAAAAAEAAAgAAAAAAQAAKAAAAAABAAAQAAAA\n",
       "AAEAAAAAAAAAAQAACAAAAAABAAAoAAAAAAEAABAAAAAAAQAAAAAAAAABAAAIAAAAAAEAACgAAAAA\n",
       "AQAAEAAAAAABAAAAAAAAAAEAAAgAAAAAAQAAIAAAAAACAAAIAAAAABxzdHNjAAAAAAAAAAEAAAAB\n",
       "AAAAZAAAAAEAAAGkc3RzegAAAAAAAAAAAAAAZAAADAsAAAC5AAAAIQAAACAAAAASAAAAGAAAABYA\n",
       "AAARAAAAEgAAABgAAAAWAAAAEQAAABIAAAAYAAAAFgAAABEAAAASAAAAGAAAABYAAAARAAAAEgAA\n",
       "ABgAAAAWAAAAEQAAABIAAAAYAAAAFgAAABEAAAASAAAAGAAAABYAAAARAAAAEgAAABgAAAAWAAAA\n",
       "EQAAABIAAAAYAAAAFgAAABEAAAASAAAAGAAAABYAAAARAAAAEgAAABgAAAAWAAAAEQAAABIAAAAY\n",
       "AAAAFgAAABEAAAASAAAAGAAAABYAAAARAAAAEgAAABgAAAAWAAAAEQAAABIAAAAYAAAAFgAAABEA\n",
       "AAASAAAAGAAAABYAAAARAAAAEgAAABgAAAAWAAAAEQAAABIAAAAYAAAAFgAAABEAAAASAAAAGAAA\n",
       "ABYAAAARAAAAEgAAABgAAAAWAAAAEQAAABIAAAAYAAAAFgAAABEAAAASAAAAGAAAABYAAAARAAAA\n",
       "EgAAABgAAAAWAAAAEQAAABIAAAAZAAAAFgAAABIAAAAUc3RjbwAAAAAAAAABAAAALAAAAGJ1ZHRh\n",
       "AAAAWm1ldGEAAAAAAAAAIWhkbHIAAAAAAAAAAG1kaXJhcHBsAAAAAAAAAAAAAAAALWlsc3QAAAAl\n",
       "qXRvbwAAAB1kYXRhAAAAAQAAAABMYXZmNTcuODMuMTAw\n",
       "\">\n",
       "  Your browser does not support the video tag.\n",
       "</video>"
      ],
      "text/plain": [
       "<IPython.core.display.HTML object>"
      ]
     },
     "execution_count": 35,
     "metadata": {},
     "output_type": "execute_result"
    },
    {
     "data": {
      "image/png": "[encoded data removed]",
      "text/plain": [
       "<Figure size 432x288 with 1 Axes>"
      ]
     },
     "metadata": {},
     "output_type": "display_data"
    }
   ],
   "source": [
    "def animate(i):\n",
    "    im.set_data(animate.grid)\n",
    "    animate.grid = ising2d(animate.grid)\n",
    "animate.grid = grid\n",
    "\n",
    "fig = plt.figure()\n",
    "ax = fig.add_subplot(111)\n",
    "im = ax.imshow(grid, cmap=plt.cm.winter)\n",
    "anim = animation.FuncAnimation(fig, animate)\n",
    "HTML(anim.to_html5_video())"
   ]
  },
  {
   "cell_type": "code",
   "execution_count": 7,
   "metadata": {},
   "outputs": [
    {
     "data": {
      "text/plain": [
       "-1.1"
      ]
     },
     "execution_count": 7,
     "metadata": {},
     "output_type": "execute_result"
    }
   ],
   "source": [
    "something"
   ]
  }
 ],
 "metadata": {
  "kernelspec": {
   "display_name": "Python 3",
   "language": "python",
   "name": "python3"
  },
  "language_info": {
   "codemirror_mode": {
    "name": "ipython",
    "version": 3
   },
   "file_extension": ".py",
   "mimetype": "text/x-python",
   "name": "python",
   "nbconvert_exporter": "python",
   "pygments_lexer": "ipython3",
   "version": "3.7.4"
  }
 },
 "nbformat": 4,
 "nbformat_minor": 4
}
