{
 "cells": [
  {
   "cell_type": "code",
   "execution_count": 58,
   "metadata": {},
   "outputs": [],
   "source": [
    "from csv import reader\n",
    "import pandas as pd\n",
    "import seaborn as sns\n",
    "import numpy as np\n",
    "\n",
    "def load_csv(filename):\n",
    "    dataset = list()\n",
    "    with open(filename, 'r') as file:\n",
    "        csv_reader = reader(file)\n",
    "        for row in csv_reader:\n",
    "            if not row:\n",
    "                pass\n",
    "            dataset.append(row)\n",
    "    return dataset\n",
    "loc = \"/home/martin/Dropbox/Pythonscripts/salescommis/input2.csv\"\n",
    "d = load_csv(loc)\n",
    "data = list()\n",
    "for i in range(len(d)):\n",
    "    a =d[i][0].split(\" \")\n",
    "    if a[0] == \"Revenue\" or a[0]==\"Expenses\":\n",
    "        pass\n",
    "    else:\n",
    "        data.append(list(filter(None,a)))\n",
    "        \n",
    "Revenue = data[0:int(len(data)/2)]\n",
    "Expenses = data[int(len(data)/2):int(len(data))]\n",
    "\n",
    "Revenue[0] = [\"Product\"] + Revenue[0]\n",
    "Expenses[0] = [\"Product\"] + Expenses[0]\n",
    "Revenue = pd.DataFrame(Revenue,columns=Revenue[0])\n",
    "Revenue = Revenue.drop(Revenue.index[0])\n",
    "Expenses = pd.DataFrame(Expenses,columns=Expenses[0])\n",
    "Expenses = Expenses.drop(Expenses.index[0])"
   ]
  },
  {
   "cell_type": "code",
   "execution_count": 74,
   "metadata": {},
   "outputs": [
    {
     "data": {
      "text/plain": [
       "[[70.0, 75.0, 1036.0, 0.0, 0.0],\n",
       " [25.0, 9.0, 270.0, 689.0, 0.0],\n",
       " [632.0, 0.0, 0.0, 44.0, 514.0],\n",
       " [762.0, 0.0, 520.0, 0.0, 11.0]]"
      ]
     },
     "execution_count": 74,
     "metadata": {},
     "output_type": "execute_result"
    }
   ],
   "source": [
    "\n",
    "profit = list()\n",
    "for i in range(len(Expenses.values)):\n",
    "        for j in range(len(Expenses.values[i])):\n",
    "                if Expenses.columns.values[j] == \"Product\":\n",
    "                    pass\n",
    "                else:\n",
    "                    profit.append(float(Revenue.values[i][j])-float(Expenses.values[i][j]))\n",
    "Expenses.values[0][0]\n",
    "profit = [x-x if x < 0 else x for x in profit]\n",
    "numnames = len(Expenses.columns.values)-1\n",
    "profit = [profit[i:i + numnames] for i in range(0, len(profit), numnames)]"
   ]
  },
  {
   "cell_type": "code",
   "execution_count": 78,
   "metadata": {},
   "outputs": [],
   "source": [
    "\n",
    "finallist = []\n",
    "for i in range(0,len(profit[0])):\n",
    "    final = 0\n",
    "    for j in range(0,len(profit)):\n",
    "        final = profit[j][i] + final\n",
    "    finallist.append(final)\n",
    "finallist = np.array(finallist)\n"
   ]
  },
  {
   "cell_type": "code",
   "execution_count": 87,
   "metadata": {},
   "outputs": [],
   "source": [
    "commission = 0.062*finallist\n",
    "commission = np.around(commission,2)\n",
    "commission = np.ndarray.tolist(commission)\n",
    "commission = [\"Commission\"] + list(map(str, commission))\n",
    "names =[\"          \"] + np.ndarray.tolist(Revenue.columns.values)\n",
    "names.pop(1)\n",
    "names = ' '.join(names)\n",
    "commission= '   '.join(commission)\n",
    "output = [names,commission]\n",
    "\n",
    "\n",
    "with open(\"/home/martin/Dropbox/Pythonscripts/salescommis/output2.csv\",mode=\"wt\") as the_file:\n",
    "    the_file.write('\\n'.join(str(line) for line in output))\n"
   ]
  }
 ],
 "metadata": {
  "kernelspec": {
   "display_name": "Python 3",
   "language": "python",
   "name": "python3"
  },
  "language_info": {
   "codemirror_mode": {
    "name": "ipython",
    "version": 3
   },
   "file_extension": ".py",
   "mimetype": "text/x-python",
   "name": "python",
   "nbconvert_exporter": "python",
   "pygments_lexer": "ipython3",
   "version": "3.6.5"
  }
 },
 "nbformat": 4,
 "nbformat_minor": 2
}
